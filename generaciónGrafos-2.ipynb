{
  "nbformat": 4,
  "nbformat_minor": 0,
  "metadata": {
    "colab": {
      "name": "generaciónGrafos.ipynb",
      "provenance": [],
      "collapsed_sections": [],
      "toc_visible": true
    },
    "kernelspec": {
      "name": "python3",
      "display_name": "Python 3"
    },
    "language_info": {
      "name": "python"
    }
  },
  "cells": [
    {
      "cell_type": "code",
      "source": [
        "!pip install colormap\n",
        "!pip install easydev"
      ],
      "metadata": {
        "colab": {
          "base_uri": "https://localhost:8080/"
        },
        "id": "x96vdVgaRpOi",
        "outputId": "5589e9c9-87b5-4961-9848-9369d2abb15c"
      },
      "execution_count": 1,
      "outputs": [
        {
          "output_type": "stream",
          "name": "stdout",
          "text": [
            "Collecting colormap\n",
            "  Downloading colormap-1.0.4.tar.gz (17 kB)\n",
            "Building wheels for collected packages: colormap\n",
            "  Building wheel for colormap (setup.py) ... \u001b[?25l\u001b[?25hdone\n",
            "  Created wheel for colormap: filename=colormap-1.0.4-py3-none-any.whl size=15637 sha256=9c23239edba5b1604f58ccfd2662b501edd7035e0ccc7fb6f88fb82ec1ce0f62\n",
            "  Stored in directory: /root/.cache/pip/wheels/71/35/4b/259c328e39ede29b184e4ffe4443bcc2be4e475178a83794c3\n",
            "Successfully built colormap\n",
            "Installing collected packages: colormap\n",
            "Successfully installed colormap-1.0.4\n",
            "Collecting easydev\n",
            "  Downloading easydev-0.12.0.tar.gz (47 kB)\n",
            "\u001b[K     |████████████████████████████████| 47 kB 2.3 MB/s \n",
            "\u001b[?25hCollecting colorama\n",
            "  Downloading colorama-0.4.4-py2.py3-none-any.whl (16 kB)\n",
            "Requirement already satisfied: pexpect in /usr/local/lib/python3.7/dist-packages (from easydev) (4.8.0)\n",
            "Collecting colorlog\n",
            "  Downloading colorlog-6.6.0-py2.py3-none-any.whl (11 kB)\n",
            "Requirement already satisfied: ptyprocess>=0.5 in /usr/local/lib/python3.7/dist-packages (from pexpect->easydev) (0.7.0)\n",
            "Building wheels for collected packages: easydev\n",
            "  Building wheel for easydev (setup.py) ... \u001b[?25l\u001b[?25hdone\n",
            "  Created wheel for easydev: filename=easydev-0.12.0-py3-none-any.whl size=64232 sha256=f03f8e21b700aee209e73b6d63d09c8481082631f06f0ef9d2fa839465bcb48b\n",
            "  Stored in directory: /root/.cache/pip/wheels/82/ab/83/fdfc4017ea44a585b6754752cc5f63f2d0d63fcc1317e7174b\n",
            "Successfully built easydev\n",
            "Installing collected packages: colorlog, colorama, easydev\n",
            "Successfully installed colorama-0.4.4 colorlog-6.6.0 easydev-0.12.0\n"
          ]
        }
      ]
    },
    {
      "cell_type": "code",
      "source": [
        "import math\n",
        "import random\n",
        "import numpy as np\n",
        "import graphviz\n",
        "import cv2\n",
        "from colormap import rgb2hex\n",
        "from google.colab.patches import cv2_imshow"
      ],
      "metadata": {
        "id": "3F0Cw_Bavl45"
      },
      "execution_count": 2,
      "outputs": []
    },
    {
      "cell_type": "code",
      "source": [
        "colour = rgb2hex(random.randint(0,255),random.randint(0,255),random.randint(0,255))\n",
        "\n",
        "\n",
        "g = graphviz.Graph(format='png',engine='neato')\n",
        "\n",
        "g.node('1',shape='point',color=colour,pos=\"0,0!\")\n",
        "g.node('2',shape='point',color=colour,pos=\"1,1!\")\n",
        "g.edge('1','2',color='gray')\n",
        "\n",
        "g.render(filename='graph',view=True)\n",
        "img = cv2.imread('graph.png')\n",
        "cv2_imshow(img)"
      ],
      "metadata": {
        "colab": {
          "base_uri": "https://localhost:8080/",
          "height": 128
        },
        "id": "ZSi2y7iqeiN5",
        "outputId": "cb9b3600-f7b9-4c0c-ea4b-a19a45f3d573"
      },
      "execution_count": 3,
      "outputs": [
        {
          "output_type": "display_data",
          "data": {
            "text/plain": [
              "<PIL.Image.Image image mode=RGB size=111x111 at 0x7FB52A364E10>"
            ],
            "image/png": "[encoded data removed]"
          },
          "metadata": {}
        }
      ]
    },
    {
      "cell_type": "code",
      "source": [
        "g.format = 'svg'\n",
        "g.render()"
      ],
      "metadata": {
        "colab": {
          "base_uri": "https://localhost:8080/",
          "height": 37
        },
        "id": "cxRhhTfnsdE6",
        "outputId": "29acaa34-4da8-44e4-fbd0-4d6e641ed274"
      },
      "execution_count": null,
      "outputs": [
        {
          "output_type": "execute_result",
          "data": {
            "text/plain": [
              "'graph.svg'"
            ],
            "application/vnd.google.colaboratory.intrinsic+json": {
              "type": "string"
            }
          },
          "metadata": {},
          "execution_count": 4
        }
      ]
    },
    {
      "cell_type": "code",
      "source": [
        "help(Node)"
      ],
      "metadata": {
        "colab": {
          "base_uri": "https://localhost:8080/"
        },
        "id": "hkX-pMG-Hyev",
        "outputId": "78503291-1283-490a-87c3-7536c30217da"
      },
      "execution_count": null,
      "outputs": [
        {
          "output_type": "stream",
          "name": "stdout",
          "text": [
            "Help on class Node in module __main__:\n",
            "\n",
            "class Node(builtins.object)\n",
            " |  Node(id)\n",
            " |  \n",
            " |  Clase Nodo: Referente a los nodos.\n",
            " |  \n",
            " |  Methods defined here:\n",
            " |  \n",
            " |  __init__(self, id)\n",
            " |      Initialize self.  See help(type(self)) for accurate signature.\n",
            " |  \n",
            " |  ----------------------------------------------------------------------\n",
            " |  Data descriptors defined here:\n",
            " |  \n",
            " |  __dict__\n",
            " |      dictionary for instance variables (if defined)\n",
            " |  \n",
            " |  __weakref__\n",
            " |      list of weak references to the object (if defined)\n",
            "\n"
          ]
        }
      ]
    },
    {
      "cell_type": "code",
      "execution_count": 4,
      "metadata": {
        "id": "rYuyX5izvc_r"
      },
      "outputs": [],
      "source": [
        "class Node:\n",
        "        \"\"\"\n",
        "        Clase Nodo: Referente a los nodos. \n",
        "        \"\"\"\n",
        "        def __init__(self,id):\n",
        "\n",
        "                self.id = id\n",
        "                self.x = 0\n",
        "                self.y = 0\n",
        "                self.degree = 0\n",
        "                self.neighboors = set()"
      ]
    },
    {
      "cell_type": "code",
      "source": [
        "class Edge:\n",
        "        \"\"\"\n",
        "        Clase Edge: Referente a las aristas.\n",
        "        \"\"\"\n",
        "\n",
        "        def __init__(self,source,target,id):\n",
        "\n",
        "                self.n0 = source\n",
        "                self.n1 = target\n",
        "                self.id = id\n",
        "                self.distance = 1"
      ],
      "metadata": {
        "id": "vkBor6sovpvD"
      },
      "execution_count": 5,
      "outputs": []
    },
    {
      "cell_type": "code",
      "source": [
        "class Graph:\n",
        "        \"\"\"\n",
        "        Clase grafo: Referente al grafo\n",
        "        \"\"\"\n",
        "        def __init__(self,digraph=False,eng = 'fdp'):\n",
        "\n",
        "                \"\"\"\n",
        "                Inicializa un grafo vacío.\n",
        "                \"\"\"\n",
        "\n",
        "                self.id = 'graph'\n",
        "                self.nodes = dict()\n",
        "                self.edges = dict()\n",
        "                self.digraph = digraph\n",
        "                if digraph:\n",
        "                        self.display = graphviz.Digraph(format='png',engine=eng)\n",
        "                else:\n",
        "                        self.display = graphviz.Graph(format='png',engine = eng)\n",
        "\n",
        "        def addNode(self, name,pos='0'):\n",
        "                \"\"\"\n",
        "                Agrega un nodo al grafo con el id name.\n",
        "                pos: posición del nodo\n",
        "                \"\"\"\n",
        "                if name not in self.nodes.keys():\n",
        "                        node = Node(name)\n",
        "                        colour = rgb2hex(random.randint(0,255),random.randint(0,255),random.randint(0,255))\n",
        "                        self.nodes[name] = node\n",
        "                        if pos == '0':\n",
        "                                self.display.node(name,shape='point',color=colour)\n",
        "                        else:\n",
        "                                self.display.node(name,shape='point',color=colour,pos=pos)\n",
        "                #return self.getNode(name)\n",
        "\n",
        "        def addEdge(self, name, node0, node1):\n",
        "                \"\"\"\n",
        "                Agrega una arista con nodos node0 y node1 como ids. \n",
        "                Crea los nodos si no existen.\n",
        "                \"\"\"\n",
        "                if name not in self.edges.keys():\n",
        "                        self.addNode(node0)\n",
        "                        self.addNode(node1)\n",
        "                        n0 = self.getNode(node0)\n",
        "                        n1 = self.getNode(node1)\n",
        "                        e = Edge(n0,n1,name)\n",
        "                        self.edges[name] = e\n",
        "                        self.display.edge(node0,node1,color='gray')\n",
        "                        n0.degree += 1\n",
        "                        n1.degree += 1\n",
        "                        n0.neighboors.add(node1)\n",
        "                        n1.neighboors.add(node0)\n",
        "                #return e\n",
        "\n",
        "        def getNode(self,name):\n",
        "                \"\"\"\n",
        "                Invoca al nodo con el id name.\n",
        "                \"\"\"\n",
        "                return self.nodes.get(name)\n",
        "\n",
        "        def getEdge(self,name):\n",
        "                \"\"\"\n",
        "                Invoca a la arista con el id name.\n",
        "                \"\"\"\n",
        "                return self.edges.get(name)\n",
        "\n",
        "        def show(self):\n",
        "                \"\"\"\n",
        "                Guarda al nodo en el archivo graph.gv para leer en Gephi.\n",
        "                Guarda una imagen del nodo con el archivo graph.png\n",
        "                Muestra la imagen.\n",
        "                \"\"\"\n",
        "                self.display.render(filename='graph.gv',view=True)\n",
        "                img = cv2.imread('graph.gv.png')\n",
        "                cv2_imshow(img) # MODIFICAR "
      ],
      "metadata": {
        "id": "E5u53-h8vwoC"
      },
      "execution_count": 6,
      "outputs": []
    },
    {
      "cell_type": "code",
      "source": [
        "g = Graph()"
      ],
      "metadata": {
        "id": "0El9Orp3v2KI"
      },
      "execution_count": null,
      "outputs": []
    },
    {
      "cell_type": "code",
      "source": [
        "g.addNode('3')\n",
        "#g.addNode('2')\n",
        "g.addNode('1')\n",
        "g.addEdge('12','1','2')\n",
        "g.addEdge('31','3','1')\n",
        "g.show()"
      ],
      "metadata": {
        "colab": {
          "base_uri": "https://localhost:8080/",
          "height": 57
        },
        "id": "NRE4bNyUxDqo",
        "outputId": "aa194c93-cdde-48ae-e353-ce5614e560e9"
      },
      "execution_count": null,
      "outputs": [
        {
          "output_type": "display_data",
          "data": {
            "text/plain": [
              "<PIL.Image.Image image mode=RGB size=140x40 at 0x7F5453DA70D0>"
            ],
            "image/png": "[encoded data removed]"
          },
          "metadata": {}
        }
      ]
    },
    {
      "cell_type": "code",
      "source": [
        "print(g.id)\n",
        "D = g.getNode('1').neighboors \n",
        "for d in D:\n",
        "  print(d)"
      ],
      "metadata": {
        "colab": {
          "base_uri": "https://localhost:8080/"
        },
        "id": "5PDTxbiqv7YQ",
        "outputId": "4ab68613-ddcd-435b-8313-03e3f954edb7"
      },
      "execution_count": null,
      "outputs": [
        {
          "output_type": "stream",
          "name": "stdout",
          "text": [
            "graph\n",
            "2\n",
            "3\n"
          ]
        }
      ]
    },
    {
      "cell_type": "markdown",
      "source": [
        "# Modelo $G_{n,m}$ de Erdös-Rényi\n",
        "\n",
        "Crear $n$ vértices y elegir uniformement al azar $m$ distintos pares de distintos vértices."
      ],
      "metadata": {
        "id": "sATetTjCb9ji"
      }
    },
    {
      "cell_type": "code",
      "source": [
        "def randomErdosRenyi(n,m, directed=False, selfloop=False):\n",
        "        \"\"\"\n",
        "        Generación de grafos aleatorios con el modelo de Erdös-Rényi\n",
        "        Crear n vértices y elegir uniformement al azar m distintos pares de distintos vértices.\n",
        "        n: número de nodos\n",
        "        m: número de aristas\n",
        "        directed: grafo dirigido\n",
        "        selfloop: permitir auto-ciclos\n",
        "        return: genera grafo aleatorio\n",
        "        \"\"\"\n",
        "\n",
        "        g = Graph(digraph=directed)\n",
        "\n",
        "        if n < 0:\n",
        "                print(\"n < 0: not valid\")\n",
        "                print(\"Setting n = 0\")\n",
        "                n = 0\n",
        "        if m > n*n:\n",
        "                print(\"m>n*n: maximum number of edges reached\")\n",
        "                print(\"Setting m = n*n\")\n",
        "                m = n*n\n",
        "\n",
        "        for i in range(n):\n",
        "                g.addNode(str(i))\n",
        "\n",
        "        added = []\n",
        "\n",
        "        for i in range(m):\n",
        "                keepg = True\n",
        "                while keepg: \n",
        "                        keepg = False\n",
        "                        if directed and selfloop:\n",
        "                                u = random.randint(0,n-1)\n",
        "                                v = random.randint(0,n-1)    \n",
        "                                nameEdge = str(u) + '->' + str(v)\n",
        "                                if nameEdge not in added:\n",
        "                                        added.append(nameEdge)\n",
        "                                        g.addEdge(nameEdge,str(u),str(v))\n",
        "                                else:\n",
        "                                        keepg = True \n",
        "\n",
        "                        elif not directed and selfloop:\n",
        "                                u = random.randint(0,n-1)\n",
        "                                v = random.randint(0,n-1)    \n",
        "                                nameEdge = str(u) + '->' + str(v)\n",
        "                                nameEdgeA= str(v) + '->' + str(u)\n",
        "                                if nameEdge not in added:\n",
        "                                        added.append(nameEdge)\n",
        "                                        added.append(nameEdgeA)\n",
        "                                        g.addEdge(nameEdge,str(u),str(v))\n",
        "                                else:\n",
        "                                        keepg = True\n",
        "\n",
        "                        elif directed and not selfloop:\n",
        "                                u = random.randint(0,n-1)\n",
        "                                v = random.randint(0,n-1)    \n",
        "                                nameEdge = str(u) + '->' + str(v)\n",
        "                                if nameEdge not in added and u != v:\n",
        "                                        added.append(nameEdge)\n",
        "                                        g.addEdge(nameEdge,str(u),str(v))\n",
        "                                else:\n",
        "                                        keepg = True\n",
        "\n",
        "                        elif not directed and not selfloop:\n",
        "                                u = random.randint(0,n-1)\n",
        "                                v = random.randint(0,n-1)    \n",
        "                                nameEdge = str(u) + '->' + str(v)\n",
        "                                nameEdgeA= str(v) + '->' + str(u)\n",
        "                                if nameEdge not in added and u != v:\n",
        "                                        added.append(nameEdge)\n",
        "                                        added.append(nameEdgeA)\n",
        "                                        g.addEdge(nameEdge,str(u),str(v))\n",
        "                                else:\n",
        "                                        keepg = True\n",
        "        return g   "
      ],
      "metadata": {
        "id": "smJUm94Tb7ul"
      },
      "execution_count": 7,
      "outputs": []
    },
    {
      "cell_type": "code",
      "source": [
        "g = randomErdosRenyi(10,40)\n",
        "\n",
        "g.show()"
      ],
      "metadata": {
        "colab": {
          "base_uri": "https://localhost:8080/",
          "height": 138
        },
        "id": "BDyjKxNJahYg",
        "outputId": "fc8cebb8-5ff1-4b4a-dd06-270afa4831b0"
      },
      "execution_count": null,
      "outputs": [
        {
          "output_type": "display_data",
          "data": {
            "text/plain": [
              "<PIL.Image.Image image mode=RGB size=132x121 at 0x7F5453D46950>"
            ],
            "image/png": "[encoded data removed]"
          },
          "metadata": {}
        }
      ]
    },
    {
      "cell_type": "markdown",
      "source": [
        "# Modelo $G_{n,p}$ de Gilbert\n",
        "\n",
        "Crear $n$ vértices y poner una arista entre cada par independiente y uniforme con probabilidad $p$"
      ],
      "metadata": {
        "id": "WKSpiDHlzV18"
      }
    },
    {
      "cell_type": "code",
      "source": [
        "def randomGilbert(n,p,directed=False, selfloop=False):\n",
        "        \"\"\"\n",
        "        Generación aleatorio de grafos utilizando el modelo de Gilbert\n",
        "        Crear n vértices y poner una arista entre cada par independiente y uniforme con probabilidad p\n",
        "        n: número de nodos\n",
        "        p: probabilidad \n",
        "        directed: grafo dirigido\n",
        "        selfloop: permitir auto-ciclos\n",
        "        return: grafo aleatorio generado\n",
        "        \"\"\"\n",
        "        g = Graph(digraph=directed)\n",
        "\n",
        "        if n < 0:\n",
        "                print(\"n < 0: not valid\")\n",
        "                print(\"Setting n = 0\")\n",
        "                n = 0\n",
        "\n",
        "        if p <= 0:\n",
        "                print(\"p <= 0: not valid\")\n",
        "                print(\"Setting p = 0\")\n",
        "                p = 0\n",
        "        elif p > 1:\n",
        "                print(\"p > 1: not valid\")\n",
        "                print(\"Setting p = 1\")\n",
        "                p = 1\n",
        "\n",
        "        for i in range(n):\n",
        "                g.addNode(str(i))\n",
        "\n",
        "        for i in range(n):\n",
        "                for j in range(n):\n",
        "                        if random.random() < p:\n",
        "                                if directed and selfloop:\n",
        "                                        g.addEdge(str(i) + '->' + str(j),str(i),str(j))\n",
        "                                \n",
        "                                elif directed and not selfloop:\n",
        "                                        if (j != i):\n",
        "                                                g.addEdge(str(i) + '->' + str(j),str(i),str(j))\n",
        "\n",
        "                                elif not directed and selfloop:\n",
        "                                        if i <= j:\n",
        "                                                g.addEdge(str(i) + '->' + str(j),str(i),str(j))\n",
        "                                \n",
        "                                elif not directed and not selfloop:\n",
        "                                        if i < j:\n",
        "                                                g.addEdge(str(i) + '->' + str(j),str(i),str(j))\n",
        "                                \n",
        "\n",
        "        return g"
      ],
      "metadata": {
        "id": "79R3aXLbzDUX"
      },
      "execution_count": null,
      "outputs": []
    },
    {
      "cell_type": "code",
      "source": [
        "g = randomGilbert(30,0.3)\n",
        "g.show()"
      ],
      "metadata": {
        "colab": {
          "base_uri": "https://localhost:8080/",
          "height": 246
        },
        "id": "ViZkxFEU5yZ5",
        "outputId": "f6815dd0-e0eb-4f51-9049-04efba42b406"
      },
      "execution_count": null,
      "outputs": [
        {
          "output_type": "display_data",
          "data": {
            "text/plain": [
              "<PIL.Image.Image image mode=RGB size=261x229 at 0x7FBD3FA47850>"
            ],
            "image/png": "[encoded data removed]"
          },
          "metadata": {}
        }
      ]
    },
    {
      "cell_type": "markdown",
      "source": [
        "# Modelo $G_{n,r}$ geográfico simple\n",
        "\n",
        "Colocar $n$ vértices en un rectángulo unitario con coordenadas uniformes (o normales) y colocar una arista entre cada par que queda en distancia $r$ o menor."
      ],
      "metadata": {
        "id": "Bi2bfDZN9web"
      }
    },
    {
      "cell_type": "code",
      "source": [
        "def dist(a,b,x,y):\n",
        "        return math.sqrt((x-a)**2 + (y-b)**2)\n",
        "\n",
        "def randomGeographic(n,r,directed=False, selfloop=False):\n",
        "        \"\"\"\n",
        "        Generación automática grafos utilizando el modelo geográfico simple.\n",
        "        Colocar n vértices en un rectángulo unitario con coordenadas uniformes (o normales) \n",
        "        y colocar una arista entre cada par que queda en distancia r o menor.\n",
        "        n: número de nodos.\n",
        "        r: distancia máxima para generar el nodo.\n",
        "        directed: grafo dirigido\n",
        "        selfloop: permitir auto-ciclos\n",
        "        return: grafo aleatorio generado\n",
        "        \"\"\"\n",
        "\n",
        "        g = Graph(digraph=directed,eng='neato')\n",
        "\n",
        "        if n < 0:\n",
        "                print(\"n < 0: not valid\")\n",
        "                print(\"Setting n = 0\")\n",
        "                n = 0\n",
        "\n",
        "        if r < 0:\n",
        "                print(\"r < 0: not valid\")\n",
        "                print(\"Setting p = 0\")\n",
        "                r = 0\n",
        "\n",
        "        for i in range(n):\n",
        "                x = 4*random.random()\n",
        "                y = 4*random.random()\n",
        "                g.addNode(str(i),pos=str(x) + ','+ str(y)+'!')\n",
        "                g.getNode(str(i)).x = x\n",
        "                g.getNode(str(i)).y = y\n",
        "\n",
        "        for i in range(n):\n",
        "                a = g.getNode(str(i)).x\n",
        "                b = g.getNode(str(i)).y\n",
        "\n",
        "                for j in range(n):\n",
        "                        c = g.getNode(str(j)).x\n",
        "                        d = g.getNode(str(j)).y\n",
        "\n",
        "                        rho = dist(a,b,c,d)\n",
        "                        #print(a,b,c,d,rho)\n",
        "\n",
        "                        if rho < r:\n",
        "                                if directed and selfloop:\n",
        "                                        g.addEdge(str(i) + '->' + str(j),str(i),str(j))\n",
        "                                        g.getEdge(str(i) + '->' + str(j)).distance = rho\n",
        "                                \n",
        "                                elif directed and not selfloop:\n",
        "                                        if (j != i):\n",
        "                                                g.addEdge(str(i) + '->' + str(j),str(i),str(j))\n",
        "                                                g.getEdge(str(i) + '->' + str(j)).distance = rho\n",
        "                                elif not directed and selfloop:\n",
        "                                        if i <= j:\n",
        "                                                g.addEdge(str(i) + '->' + str(j),str(i),str(j))\n",
        "                                                g.getEdge(str(i) + '->' + str(j)).distance = rho\n",
        "\n",
        "                                elif not directed and not selfloop:\n",
        "                                        if i < j:\n",
        "                                                g.addEdge(str(i) + '->' + str(j),str(i),str(j))\n",
        "                                                g.getEdge(str(i) + '->' + str(j)).distance = rho\n",
        "\n",
        "        return g"
      ],
      "metadata": {
        "id": "XWNqd8s5-Ba2"
      },
      "execution_count": null,
      "outputs": []
    },
    {
      "cell_type": "code",
      "source": [
        "g = randomGeographic(30,1.5)\n",
        "g.show()"
      ],
      "metadata": {
        "colab": {
          "base_uri": "https://localhost:8080/",
          "height": 386
        },
        "id": "1De_ZKqB-CZd",
        "outputId": "62bbf236-fa8c-4644-cf72-015b2107497a"
      },
      "execution_count": null,
      "outputs": [
        {
          "output_type": "display_data",
          "data": {
            "text/plain": [
              "<PIL.Image.Image image mode=RGB size=377x369 at 0x7FBD3FA47E50>"
            ],
            "image/png": "[encoded data removed]"
          },
          "metadata": {}
        }
      ]
    },
    {
      "cell_type": "markdown",
      "source": [
        "# Variante del modelo $G_{n,d}$ Barabási-Albert\n",
        "\n",
        "Colocar $n$ vértices uno por uno, asignando a cada uno $d$ aristas o vértices distintos de tal manera que la probabilidad de que el vértice nuevo se conecte a un vértice existente $v$ es proporcional a la cantidad de aristas que $v$ tiene actualmente – los primeros $d$ vértices se conectan todos con todos."
      ],
      "metadata": {
        "id": "imakc1Iq-DCp"
      }
    },
    {
      "cell_type": "code",
      "source": [
        "def randomBarabasiAlbert(n,d,directed=False, selfloop=False):\n",
        "        \"\"\"\n",
        "        Generación aleatoria de grafos utilizando el modelo de Barabasi-Albert\n",
        "        Colocar n vértices uno por uno, asignando a cada uno d aristas o vértices \n",
        "        distintos de tal manera que la probabilidad de que el vértice nuevo se conecte \n",
        "        a un vértice existente v es proporcional a la cantidad de aristas que v\n",
        "        tiene actualmente – los primeros d vértices se conectan todos con todos.\n",
        "        n: número de nodos\n",
        "        d: nuevos nodos\n",
        "        directed: grafo dirigido\n",
        "        selfloop: permitir auto-ciclos\n",
        "        return: grafo aleatorio generado\n",
        "        \"\"\"\n",
        "        g = Graph(digraph=directed)\n",
        "\n",
        "        if n < 0:\n",
        "                print(\"n < 0: not valid\")\n",
        "                print(\"Setting n = 0\")\n",
        "                n = 0\n",
        "\n",
        "        if d < 0:\n",
        "                print(\"d < 0: not valid\")\n",
        "                print(\"Setting d = 0\")\n",
        "                d = 0\n",
        "\n",
        "\n",
        "        #g.addNode(str(0))\n",
        "\n",
        "        for i in range(n):\n",
        "                g.addNode(str(i))\n",
        "\n",
        "        #g.addEdge(str(0) + '->' + str(1),str(0),str(1))\n",
        "\n",
        "        for u in range(1,n):\n",
        "                randomNodes = np.arange(u)\n",
        "                np.random.shuffle(randomNodes)\n",
        "\n",
        "                for v in range(u):\n",
        "                        j = randomNodes[v]\n",
        "                        deg = g.getNode(str(j)).degree\n",
        "                        p = 1 - deg / d\n",
        "                        \n",
        "\n",
        "                        if random.random() < p:\n",
        "                                i = u*1\n",
        "                                #print(p)\n",
        "\n",
        "                                if directed and selfloop:\n",
        "                                        g.addEdge(str(i) + '->' + str(j),str(i),str(j))\n",
        "                                \n",
        "                                elif directed and not selfloop:\n",
        "                                        if (j != i):\n",
        "                                                g.addEdge(str(i) + '->' + str(j),str(i),str(j))\n",
        "\n",
        "                                elif not directed and selfloop:\n",
        "                                        if i >= j:\n",
        "                                                g.addEdge(str(i) + '->' + str(j),str(i),str(j))\n",
        "                                \n",
        "                                elif not directed and not selfloop:\n",
        "                                        if i > j:\n",
        "                                                g.addEdge(str(i) + '->' + str(j),str(i),str(j))\n",
        "                                \n",
        "\n",
        "        return g"
      ],
      "metadata": {
        "id": "6H-LOf9gGmKZ"
      },
      "execution_count": null,
      "outputs": []
    },
    {
      "cell_type": "code",
      "source": [
        "g = randomBarabasiAlbert(30,4)\n",
        "g.show()"
      ],
      "metadata": {
        "colab": {
          "base_uri": "https://localhost:8080/",
          "height": 505
        },
        "id": "WYWL860CV8Cn",
        "outputId": "00677e93-5167-482a-de6a-9f29f32ab5f5"
      },
      "execution_count": null,
      "outputs": [
        {
          "output_type": "display_data",
          "data": {
            "text/plain": [
              "<PIL.Image.Image image mode=RGB size=288x488 at 0x7FBD3F9FB590>"
            ],
            "image/png": "[encoded data removed]"
          },
          "metadata": {}
        }
      ]
    },
    {
      "cell_type": "markdown",
      "source": [
        "# Modelo $G_{m,n}$ de malla\n",
        "\n",
        "Crear $m\\times n$ nodos. Para el nodo $n_{i,j}$ crear una arista con el nodo $n_{i+1,j}$ y otra con el nodo $n_{i,j+1}$, para $i<m$ y $j<n$."
      ],
      "metadata": {
        "id": "cnty8tY6enho"
      }
    },
    {
      "cell_type": "code",
      "source": [
        "def grid(m,n, directed=False,diagonals=False):\n",
        "        \"\"\"\n",
        "        Generación de grafos utilizando el modelo de malla.\n",
        "        Crear  𝑚×𝑛  nodos. Para el nodo  𝑛𝑖,𝑗  crear una arista con \n",
        "        el nodo  𝑛𝑖+1,𝑗  y otra con el nodo  𝑛𝑖,𝑗+1 , para  𝑖<𝑚  y  𝑗<𝑛 .\n",
        "        n: número de columnas\n",
        "        m: número de filas\n",
        "        directed: grafo dirigido\n",
        "        selfloop: permitir auto-ciclos\n",
        "        return: grafo aleatorio generado\n",
        "        \"\"\"\n",
        "\n",
        "        if n == 0:\n",
        "                n = m\n",
        "\n",
        "        m = max(2,m)\n",
        "        n = max(2,n)\n",
        "\n",
        "        g = Graph(digraph=directed,eng='neato')\n",
        "\n",
        "        if n < 0:\n",
        "                print(\"n < 0: not valid\")\n",
        "                print(\"Setting n = 0\")\n",
        "                n = 0\n",
        "        #if m > n*n:\n",
        "        #        print(\"m>n*n: maximum number of edges reached\")\n",
        "        #        print(\"Setting m = n*n\")\n",
        "        #        m = n*n\n",
        "\n",
        "        #for i in range(n):\n",
        "        #        g.addNode(str(i))\n",
        "\n",
        "        # First, we add all nodes\n",
        "\n",
        "        for i in range(m):\n",
        "                for j in range(n):\n",
        "                        g.addNode(str(i*n+j),pos=str(i) + ','+ str(j)+'!')\n",
        "\n",
        "\n",
        "        for i in range(m):\n",
        "                for j in range(n):\n",
        "                        \n",
        "                        #g.addNode(str(i*n+j),pos=str(i) + ','+ str(j)+'!')\n",
        "                        #g.addNode(str(i*n+j)).x = float(i)\n",
        "                        #g.addNode(str(i*n+j)).y = float(j)\n",
        "\n",
        "                        if j < n-1:\n",
        "                                a = i*n + j\n",
        "                                b = i*n + j + 1\n",
        "                                g.addEdge(str(a)+'->' + str(b),str(a),str(b))\n",
        "\n",
        "                        if i < m - 1:\n",
        "                                a = i*n + j\n",
        "                                b = (i+1)*n + j\n",
        "                                g.addEdge(str(a)+'->' + str(b),str(a),str(b))\n",
        "\n",
        "                        if i < m - 1 and j < n - 1 and diagonals:\n",
        "                                a = i*n + j\n",
        "                                b = (i+1)* n + j + 1\n",
        "                                g.addEdge(str(a)+'->' + str(b),str(a),str(b))       \n",
        "\n",
        "                        if i > 0 and j < n - 1 and diagonals:\n",
        "                                a = i*n + j\n",
        "                                b = (i-1)* n + j + 1\n",
        "                                g.addEdge(str(a)+'->' + str(b),str(a),str(b)) \n",
        "\n",
        "        return g "
      ],
      "metadata": {
        "id": "mpsbJabbe6Od"
      },
      "execution_count": null,
      "outputs": []
    },
    {
      "cell_type": "code",
      "source": [
        "g = grid(5,5)\n",
        "g.show()"
      ],
      "metadata": {
        "colab": {
          "base_uri": "https://localhost:8080/",
          "height": 416
        },
        "id": "672JmH9-o4KT",
        "outputId": "5ac08790-047a-4876-8e43-fc339ba97ec6"
      },
      "execution_count": null,
      "outputs": [
        {
          "output_type": "display_data",
          "data": {
            "text/plain": [
              "<PIL.Image.Image image mode=RGB size=399x399 at 0x7F0B5F868890>"
            ],
            "image/png": "[encoded data removed]"
          },
          "metadata": {}
        }
      ]
    },
    {
      "cell_type": "markdown",
      "source": [
        "# Modelo $G_n$ de Dorogovtsev-Mendes\n",
        "\n",
        "Crear 3 nodos y 3 aristas formando un triángulo. Después, para cada nodo adicional, se selecciona una arista al azar y se crean aristas entre el nodo nuevo y los extremos de la arista seleccionada."
      ],
      "metadata": {
        "id": "KqZUnLVU4GNY"
      }
    },
    {
      "cell_type": "code",
      "source": [
        "def dorogovtsevMendes(n, directed=False,diagonals=False):\n",
        "        \"\"\"\n",
        "        Generación de grafos utilizando el modelo de Dorogovtsev-Mendes.\n",
        "        Crear 3 nodos y 3 aristas formando un triángulo. Después, para cada nodo \n",
        "        adicional, se selecciona una arista al azar y se crean aristas entre el \n",
        "        nodo nuevo y los extremos de la arista seleccionada.\n",
        "        n: número de nodos.\n",
        "        directed: grafo dirigido\n",
        "        selfloop: permitir auto-ciclos\n",
        "        diagonals: permitir diagonales \n",
        "        return: grafo aleatorio generado       \n",
        "        \"\"\"\n",
        "\n",
        "        g = Graph(digraph=directed,eng='sfdp')\n",
        "\n",
        "        if n < 0:\n",
        "                print(\"n < 0: not valid\")\n",
        "                print(\"Setting n = 0\")\n",
        "                n = 0\n",
        "\n",
        "\n",
        "        # First, we add all nodes\n",
        "\n",
        "        for i in range(n):\n",
        "                g.addNode(str(i))\n",
        "\n",
        "\n",
        "        if n >= 2:\n",
        "                g.addEdge(str(0) + '->' + str(1),str(0),str(1))\n",
        "\n",
        "        if n >= 3:\n",
        "                g.addEdge(str(1) + '->' + str(2),str(1),str(2))\n",
        "                g.addEdge(str(0) + '->' + str(2),str(0),str(2))       \n",
        "\n",
        "\n",
        "\n",
        "        for i in range(2,n-1):\n",
        "                E = list(g.edges.keys()) #list(np.arange(0,i))\n",
        "                a = random.choice(E)\n",
        "                nd0 = g.getEdge(a).n0.id\n",
        "                nd1 = g.getEdge(a).n1.id\n",
        "                #print(a,nd0,nd1)\n",
        "                g.addEdge(str(i+1) + '->' + nd0,str(i+1),nd0)  \n",
        "                g.addEdge(str(i+1) + '->' + nd1,str(i+1),nd1)\n",
        "\n",
        "\n",
        "        return g "
      ],
      "metadata": {
        "id": "dYDJ8TsK4VGS"
      },
      "execution_count": null,
      "outputs": []
    },
    {
      "cell_type": "code",
      "source": [
        "g = dorogovtsevMendes(10)\n",
        "\n",
        "g.show()"
      ],
      "metadata": {
        "colab": {
          "base_uri": "https://localhost:8080/",
          "height": 155
        },
        "id": "EmQEbbL19EuE",
        "outputId": "8f8f657e-2676-4a6b-ca1c-1d785833008b"
      },
      "execution_count": null,
      "outputs": [
        {
          "output_type": "display_data",
          "data": {
            "text/plain": [
              "<PIL.Image.Image image mode=RGB size=196x138 at 0x7F0B562FE090>"
            ],
            "image/png": "[encoded data removed]"
          },
          "metadata": {}
        }
      ]
    },
    {
      "cell_type": "code",
      "source": [
        "p = list(g.edges.keys())[3]\n",
        "n1 = g.getEdge(p).n1\n",
        "print(n1.id)"
      ],
      "metadata": {
        "colab": {
          "base_uri": "https://localhost:8080/"
        },
        "id": "RxMfmTNMIlzR",
        "outputId": "34ece72c-05d7-454a-df98-fcc1e0090aa2"
      },
      "execution_count": null,
      "outputs": [
        {
          "output_type": "stream",
          "name": "stdout",
          "text": [
            "0\n"
          ]
        }
      ]
    },
    {
      "cell_type": "code",
      "source": [
        "A = [1,2,3]\n",
        "A.remove(1)\n",
        "print(A)"
      ],
      "metadata": {
        "colab": {
          "base_uri": "https://localhost:8080/"
        },
        "id": "MK921BPi9iWm",
        "outputId": "edf27f0a-b229-4a91-8454-f97f6e6441ce"
      },
      "execution_count": null,
      "outputs": [
        {
          "output_type": "stream",
          "name": "stdout",
          "text": [
            "[2, 3]\n"
          ]
        }
      ]
    },
    {
      "cell_type": "markdown",
      "source": [
        "# DFS_R"
      ],
      "metadata": {
        "id": "SrR3oxk789lX"
      }
    },
    {
      "cell_type": "code",
      "source": [
        "def DFSaux(G,u,explorados,g):\n",
        "        \"\"\"\n",
        "        DFS\n",
        "        G: grafo\n",
        "        u: id del grafo inicial\n",
        "        explorados: nodos explorados\n",
        "        g: grafo de salida\n",
        "        \"\"\"\n",
        "        explorados.append(u)\n",
        "        #g = Graph()\n",
        "        g.addNode(u)\n",
        "        D = G.getNode(u).neighboors \n",
        "        #print(D)\n",
        "        for v in D:\n",
        "                if v not in explorados:\n",
        "                        g.addEdge(u + '->' + v,u,v)\n",
        "                        g = DFSaux(G,v,explorados,g)\n",
        "        #print(explorados)\n",
        "        return g\n",
        "\n",
        "def DFS_R(G,u):\n",
        "        explorados = []\n",
        "        g = Graph() \n",
        "        g = DFSaux(G,u,explorados,g)\n",
        "        return g\n",
        "     "
      ],
      "metadata": {
        "id": "Z0y0_ll388Mn"
      },
      "execution_count": 8,
      "outputs": []
    },
    {
      "cell_type": "code",
      "source": [
        "g1 = randomErdosRenyi(10,7)\n",
        "\n",
        "g1.show()"
      ],
      "metadata": {
        "colab": {
          "base_uri": "https://localhost:8080/",
          "height": 225
        },
        "id": "I_VGdpH-wQQu",
        "outputId": "a8869dd9-031e-4572-84c6-756cd35b9231"
      },
      "execution_count": null,
      "outputs": [
        {
          "output_type": "display_data",
          "data": {
            "text/plain": [
              "<PIL.Image.Image image mode=RGB size=185x208 at 0x7F99A6E8AA90>"
            ],
            "image/png": "[encoded data removed]"
          },
          "metadata": {}
        }
      ]
    },
    {
      "cell_type": "code",
      "source": [
        "g2 = DFS_R(g1,'1')\n",
        "g2.show()"
      ],
      "metadata": {
        "colab": {
          "base_uri": "https://localhost:8080/",
          "height": 262
        },
        "id": "hjRhmcgLy-11",
        "outputId": "b01bb2bc-4920-4d02-9d52-a97cac42f783"
      },
      "execution_count": null,
      "outputs": [
        {
          "output_type": "display_data",
          "data": {
            "text/plain": [
              "<PIL.Image.Image image mode=RGB size=123x245 at 0x7F67C98F3610>"
            ],
            "image/png": "[encoded data removed]"
          },
          "metadata": {}
        }
      ]
    },
    {
      "cell_type": "markdown",
      "source": [
        "# DFS_I"
      ],
      "metadata": {
        "id": "pYx7zT4bPme4"
      }
    },
    {
      "cell_type": "code",
      "source": [
        "def DFS_Iaux(G,inicial,g,stack,visited):\n",
        "        stack.append(inicial)\n",
        "        while len(stack) != 0:\n",
        "                u = stack[-1]\n",
        "                stack.pop()\n",
        "                visited.append(u)\n",
        "                g.addNode(u)\n",
        "                D = G.getNode(u).neighboors\n",
        "                #print(D)\n",
        "                for v in D:\n",
        "                        if v not in visited:\n",
        "                                g.addEdge(u + '->' + v,u,v)\n",
        "                                g = DFS_Iaux(G,v,g,stack,visited)\n",
        "\n",
        "        return g\n",
        "\n",
        "def DFS_I(G,u):\n",
        "        stack = []\n",
        "        visited = []\n",
        "        g = Graph()\n",
        "        g = DFS_Iaux(G,u,g,stack,visited) \n",
        "        return g                               "
      ],
      "metadata": {
        "id": "sj3rCuUTPpE4"
      },
      "execution_count": null,
      "outputs": []
    },
    {
      "cell_type": "code",
      "source": [
        "g2 = DFS_I(g1,'2')\n",
        "g2.show()"
      ],
      "metadata": {
        "colab": {
          "base_uri": "https://localhost:8080/",
          "height": 238
        },
        "id": "IKOHso5OH5Gz",
        "outputId": "3a02832e-5b6f-4692-d049-3b023f69f737"
      },
      "execution_count": null,
      "outputs": [
        {
          "output_type": "display_data",
          "data": {
            "text/plain": [
              "<PIL.Image.Image image mode=RGB size=145x221 at 0x7F99A6D89A90>"
            ],
            "image/png": "[encoded data removed]"
          },
          "metadata": {}
        }
      ]
    },
    {
      "cell_type": "markdown",
      "source": [
        "# BFS"
      ],
      "metadata": {
        "id": "YyWsEKct1dMt"
      }
    },
    {
      "cell_type": "code",
      "source": [
        "def BFS(G,u):\n",
        "        L = []\n",
        "        discovered = dict()\n",
        "        discovered[u] = True\n",
        "        nodos = list(G.nodes.keys())\n",
        "        for n in nodos:\n",
        "                if u != n:\n",
        "                        discovered[n] = False\n",
        "        \n",
        "        g = Graph()\n",
        "        g.addNode(u)\n",
        "        L0 = [u]\n",
        "        g.addNode(u)\n",
        "        L.append(L0)\n",
        "        Li = L0*1\n",
        "        while len(Li) != 0:\n",
        "                Lii = []\n",
        "                for u in Li:\n",
        "                        D = G.getNode(u).neighboors \n",
        "                        for v in D:\n",
        "                                if discovered[v] == False:\n",
        "                                        discovered[v] = True\n",
        "                                        g.addNode(v)\n",
        "                                        g.addEdge(u + '->' + v,u,v)\n",
        "                                        Lii.append(v)\n",
        "                L.append(Lii)\n",
        "                Li = Lii*1\n",
        "\n",
        "        return g               "
      ],
      "metadata": {
        "id": "3OIaL2hs1gM3"
      },
      "execution_count": null,
      "outputs": []
    },
    {
      "cell_type": "code",
      "source": [
        "g2 = BFS(g1,'1')\n",
        "g2.show()"
      ],
      "metadata": {
        "colab": {
          "base_uri": "https://localhost:8080/",
          "height": 342
        },
        "id": "lfa87Cum41Mf",
        "outputId": "0668d0c1-568d-4b18-c3f8-1ce12e3147c6"
      },
      "execution_count": null,
      "outputs": [
        {
          "output_type": "display_data",
          "data": {
            "text/plain": [
              "<PIL.Image.Image image mode=RGB size=88x325 at 0x7F67C13C4150>"
            ],
            "image/png": "[encoded data removed]"
          },
          "metadata": {}
        }
      ]
    },
    {
      "cell_type": "code",
      "source": [
        "import graphviz\n",
        "\n",
        "h = graphviz.Graph('hello', format='svg')\n",
        "h.edge('Hello', 'World')"
      ],
      "metadata": {
        "id": "-8eTOS5r-7JS"
      },
      "execution_count": 1,
      "outputs": []
    }
  ]
}